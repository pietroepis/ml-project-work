{
 "cells": [
  {
   "cell_type": "code",
   "execution_count": null,
   "metadata": {},
   "outputs": [],
   "source": [
    "import pandas as pd\n",
    "import h2o\n",
    "from h2o.automl import H2OAutoML\n",
    "h2o.init(ip=\"192.168.0.30\", port=\"54323\")\n",
    "\n",
    "train = h2o.import_file(\"../../datasets/regression/train.csv\")\n",
    "test = h2o.import_file(\"../../datasets/regression/test.csv\")"
   ]
  },
  {
   "cell_type": "markdown",
   "metadata": {},
   "source": [
    "### Function _train_\n",
    "\n",
    "Several models are trained in order to compare the performance. The results are returned and formatted as tables"
   ]
  },
  {
   "cell_type": "code",
   "execution_count": null,
   "metadata": {},
   "outputs": [],
   "source": [
    "x = train.columns\n",
    "y = \"SalePrice\"\n",
    "x.remove(y)\n",
    "\n",
    "# binary classification\n",
    "# train[y] = train[y].asfactor()\n",
    "# test[y] = test[y].asfactor()\n",
    "\n",
    "aml = H2OAutoML(max_models = 20, seed = 1)\n",
    "aml.train(x = x, y = y, training_frame = train)\n",
    "lb = aml.leaderboard\n",
    "lb.head(rows=lb.nrows)"
   ]
  },
  {
   "cell_type": "markdown",
   "metadata": {},
   "source": [
    "Best Model"
   ]
  },
  {
   "cell_type": "code",
   "execution_count": null,
   "metadata": {},
   "outputs": [],
   "source": [
    "aml.leader"
   ]
  },
  {
   "cell_type": "markdown",
   "metadata": {},
   "source": [
    "### Function _predict_\n",
    "\n",
    "It generates predictions on the leader model from the run."
   ]
  },
  {
   "cell_type": "code",
   "execution_count": null,
   "metadata": {},
   "outputs": [],
   "source": [
    "preds = aml.leader.predict(test)"
   ]
  }
 ],
 "metadata": {
  "kernelspec": {
   "display_name": "Python 3.9.7 ('base')",
   "language": "python",
   "name": "python3"
  },
  "language_info": {
   "name": "python",
   "version": "3.9.7"
  },
  "orig_nbformat": 4,
  "vscode": {
   "interpreter": {
    "hash": "83f29e3442dbdf2106bf1314a61d0b0b922d16ab99eaaecbbf54884a7ab24bc3"
   }
  }
 },
 "nbformat": 4,
 "nbformat_minor": 2
}
