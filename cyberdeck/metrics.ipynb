{
 "cells": [
  {
   "cell_type": "code",
   "execution_count": 1,
   "metadata": {},
   "outputs": [],
   "source": [
    "import pandas as pd\n",
    "from sklearn.metrics import accuracy_score\n",
    "from sklearn.metrics import f1_score\n",
    "from sklearn.metrics import recall_score\n",
    "from sklearn.metrics import precision_score\n",
    "\n",
    "results = pd.read_csv(\"./results/Classification_predictions.csv\")\n",
    "y_pred = results[\"Label\"]\n",
    "y_true = results[\"satisfaction\"]"
   ]
  },
  {
   "cell_type": "code",
   "execution_count": 2,
   "metadata": {},
   "outputs": [
    {
     "name": "stdout",
     "output_type": "stream",
     "text": [
      "Accuracy: 0.9729\n",
      "F1: 0.9728548585635254\n",
      "Recall: 0.9729\n",
      "Precision: 0.9730218308746049\n"
     ]
    }
   ],
   "source": [
    "print(\"Accuracy:\", accuracy_score(y_true, y_pred))\n",
    "print(\"F1:\", f1_score(y_true, y_pred, average='weighted'))\n",
    "print(\"Recall:\", recall_score(y_true, y_pred, average='weighted'))\n",
    "print(\"Precision:\", precision_score(y_true, y_pred, average='weighted'))\n"
   ]
  },
  {
   "cell_type": "code",
   "execution_count": 3,
   "metadata": {},
   "outputs": [],
   "source": [
    "from sklearn.metrics import mean_squared_error\n",
    "results = pd.read_csv(\"./results/Regression_predictions_train.csv\")\n",
    "y_pred = results[\"Label\"]\n",
    "y_true = results[\"SalePrice\"]"
   ]
  },
  {
   "cell_type": "code",
   "execution_count": 4,
   "metadata": {},
   "outputs": [
    {
     "name": "stdout",
     "output_type": "stream",
     "text": [
      "MSE: 270163277.5021475\n"
     ]
    }
   ],
   "source": [
    "print(\"MSE:\", mean_squared_error(y_true, y_pred))"
   ]
  },
  {
   "cell_type": "code",
   "execution_count": 5,
   "metadata": {},
   "outputs": [
    {
     "name": "stdout",
     "output_type": "stream",
     "text": [
      "Silhouette: 0.5721226353927255\n"
     ]
    }
   ],
   "source": [
    "from sklearn.metrics import silhouette_score\n",
    "results = pd.read_csv(\"./results/clustering_result.csv\")\n",
    "for cat in results:\n",
    "    if results[cat].dtype == \"object\":\n",
    "        map = dict(zip(results[cat].unique(), range(results[cat].unique().size)))\n",
    "        results[cat] = results[cat].map(map)\n",
    "\n",
    "na_cols = []\n",
    "\n",
    "for col in results.columns:\n",
    "    if results[results[col].isna()].shape[0] > 0:\n",
    "        na_cols.append(col)\n",
    "\n",
    "results = results.dropna(axis=0, subset=na_cols)\n",
    "\n",
    "print(\"Silhouette:\", silhouette_score(results.drop(\"Cluster\", axis = 1), results[\"Cluster\"]))"
   ]
  }
 ],
 "metadata": {
  "kernelspec": {
   "display_name": "Python 3.9.7 ('base')",
   "language": "python",
   "name": "python3"
  },
  "language_info": {
   "codemirror_mode": {
    "name": "ipython",
    "version": 3
   },
   "file_extension": ".py",
   "mimetype": "text/x-python",
   "name": "python",
   "nbconvert_exporter": "python",
   "pygments_lexer": "ipython3",
   "version": "3.9.7"
  },
  "orig_nbformat": 4,
  "vscode": {
   "interpreter": {
    "hash": "83f29e3442dbdf2106bf1314a61d0b0b922d16ab99eaaecbbf54884a7ab24bc3"
   }
  }
 },
 "nbformat": 4,
 "nbformat_minor": 2
}
