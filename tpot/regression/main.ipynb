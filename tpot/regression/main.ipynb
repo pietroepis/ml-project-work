{
 "cells": [
  {
   "cell_type": "code",
   "execution_count": 1,
   "metadata": {},
   "outputs": [],
   "source": [
    "import pandas as pd\n",
    "from tpot import TPOTRegressor\n",
    "from sklearn.metrics import r2_score\n",
    "\n",
    "train = pd.read_csv(\"../../datasets/regression/train.csv\")\n",
    "test = pd.read_csv(\"../../datasets/regression/test.csv\")\n",
    "\n",
    "y_train = train[\"SalePrice\"]\n",
    "X_train = train.drop(\"SalePrice\", axis = 1)\n",
    "\n",
    "tpot = TPOTRegressor()"
   ]
  },
  {
   "cell_type": "markdown",
   "metadata": {},
   "source": [
    "### Preprocessing\n",
    "\n",
    "TPOT library does not handle categorical data. We have to convert the values of some columns by defining a mapping with numeric values."
   ]
  },
  {
   "cell_type": "code",
   "execution_count": 2,
   "metadata": {},
   "outputs": [],
   "source": [
    "for cat in X_train:\n",
    "    if X_train[cat].dtype == \"object\":\n",
    "        map = dict(zip(X_train[cat].unique(), range(X_train[cat].unique().size)))\n",
    "        X_train[cat] = X_train[cat].map(map)"
   ]
  },
  {
   "cell_type": "markdown",
   "metadata": {},
   "source": [
    "### Training"
   ]
  },
  {
   "cell_type": "code",
   "execution_count": 3,
   "metadata": {},
   "outputs": [
    {
     "name": "stderr",
     "output_type": "stream",
     "text": [
      "c:\\Users\\micmi\\miniconda3\\envs\\tpot\\lib\\site-packages\\xgboost\\compat.py:36: FutureWarning: pandas.Int64Index is deprecated and will be removed from pandas in a future version. Use pandas.Index with the appropriate dtype instead.\n",
      "  from pandas import MultiIndex, Int64Index\n"
     ]
    }
   ],
   "source": [
    "tpot.fit(X_train, y_train)"
   ]
  },
  {
   "cell_type": "markdown",
   "metadata": {},
   "source": [
    "### Evaluation"
   ]
  },
  {
   "cell_type": "code",
   "execution_count": null,
   "metadata": {},
   "outputs": [],
   "source": [
    "preds = tpot.predict(X_test)\n",
    "print(r2_score(y_test, preds))"
   ]
  }
 ],
 "metadata": {
  "kernelspec": {
   "display_name": "Python 3.8.13 ('tpot')",
   "language": "python",
   "name": "python3"
  },
  "language_info": {
   "codemirror_mode": {
    "name": "ipython",
    "version": 3
   },
   "file_extension": ".py",
   "mimetype": "text/x-python",
   "name": "python",
   "nbconvert_exporter": "python",
   "pygments_lexer": "ipython3",
   "version": "3.8.13"
  },
  "orig_nbformat": 4,
  "vscode": {
   "interpreter": {
    "hash": "e6888e946eeaee32db79dcaac311a14bacccc6d916c71c700f0a74e957ab3516"
   }
  }
 },
 "nbformat": 4,
 "nbformat_minor": 2
}
