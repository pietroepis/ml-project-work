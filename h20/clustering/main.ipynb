{
 "cells": [
  {
   "cell_type": "code",
   "execution_count": null,
   "metadata": {},
   "outputs": [],
   "source": [
    "import h2o\n",
    "from h2o.estimators import H2OKMeansEstimator\n",
    "h2o.init()\n",
    "\n",
    "dataset = h2o.import_file(\"../../datasets/clustering/marketing_campaign.csv\")"
   ]
  },
  {
   "cell_type": "code",
   "execution_count": null,
   "metadata": {},
   "outputs": [],
   "source": [
    "predictors = dataset.columns\n",
    "\n",
    "# Split the dataset into a train and valid set:\n",
    "train, valid = dataset.split_frame(ratios=[.8], seed=1234)\n",
    "\n",
    "# Build and train the model:\n",
    "kmeans = H2OKMeansEstimator(\n",
    "    k = 10,\n",
    "    estimate_k = True,\n",
    "    standardize = False,\n",
    "    seed = 1234\n",
    ")\n",
    "kmeans.train(\n",
    "    x = predictors,\n",
    "    training_frame = train,\n",
    "    validation_frame = valid\n",
    ")\n",
    "\n",
    "# Eval performance:\n",
    "perf = kmeans.model_performance()\n",
    "\n",
    "#  Generate predictions on a validation set (if necessary):\n",
    "pred = kmeans.predict(valid)"
   ]
  }
 ],
 "metadata": {
  "kernelspec": {
   "display_name": "Python 3.9.7 ('base')",
   "language": "python",
   "name": "python3"
  },
  "language_info": {
   "name": "python",
   "version": "3.9.7"
  },
  "orig_nbformat": 4,
  "vscode": {
   "interpreter": {
    "hash": "83f29e3442dbdf2106bf1314a61d0b0b922d16ab99eaaecbbf54884a7ab24bc3"
   }
  }
 },
 "nbformat": 4,
 "nbformat_minor": 2
}
